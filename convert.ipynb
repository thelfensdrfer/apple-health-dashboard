{
 "cells": [
  {
   "cell_type": "code",
   "execution_count": 2,
   "metadata": {
    "pycharm": {
     "is_executing": true
    }
   },
   "outputs": [],
   "source": [
    "import os\n",
    "import zipfile\n",
    "import json\n",
    "\n",
    "import pandas as pd\n",
    "import numpy as np"
   ]
  },
  {
   "cell_type": "code",
   "execution_count": 10,
   "metadata": {
    "pycharm": {
     "name": "#%%\n"
    }
   },
   "outputs": [],
   "source": [
    "EXPORT_ZIP_PATH = 'export.zip'\n",
    "TARGET_DIRECTORY = './data'\n",
    "\n",
    "with zipfile.ZipFile(EXPORT_ZIP_PATH, 'r') as zip_ref:\n",
    "    zip_ref.extractall(TARGET_DIRECTORY)"
   ]
  },
  {
   "cell_type": "code",
   "execution_count": 12,
   "metadata": {
    "pycharm": {
     "name": "#%%\n"
    }
   },
   "outputs": [],
   "source": [
    "EXPORT_XML = TARGET_DIRECTORY + '/apple_health_export/export.xml'\n",
    "\n",
    "if not os.path.isfile(EXPORT_XML):\n",
    "    raise 'Could not find xml export'\n",
    "\n",
    "df = pd.read_xml(EXPORT_XML, xpath='//Record[@type=\"HKQuantityTypeIdentifierHeartRate\"]')\n",
    "df = df[['startDate', 'value']]"
   ]
  },
  {
   "cell_type": "code",
   "execution_count": 13,
   "metadata": {
    "pycharm": {
     "name": "#%%\n"
    }
   },
   "outputs": [
    {
     "name": "stderr",
     "output_type": "stream",
     "text": [
      "/tmp/ipykernel_45608/1150266851.py:6: FutureWarning: casting datetime64[ns, pytz.FixedOffset(120)] values to int64 with .astype(...) is deprecated and will raise in a future version. Use .view(...) instead.\n",
      "  export['x'] = export['x'].astype(np.int64) // 10 ** 6\n"
     ]
    }
   ],
   "source": [
    "export = df.rename(columns={'startDate': 'x', 'value': 'y'})\n",
    "export['x'] = pd.to_datetime(export['x'])\n",
    "export = export.set_index('x')\n",
    "export = export.resample('H').median()\n",
    "export = export.reset_index()\n",
    "export['x'] = export['x'].astype(np.int64) // 10 ** 6"
   ]
  },
  {
   "cell_type": "code",
   "execution_count": 14,
   "metadata": {
    "pycharm": {
     "name": "#%%\n"
    }
   },
   "outputs": [],
   "source": [
    "with open('./data.json', 'w') as export_json:\n",
    "    export.to_json(path_or_buf=export_json, orient='records')\n",
    "\n",
    "with open('./stats.json', 'w') as export_json:\n",
    "    json.dump({\n",
    "        \"quantile_95\": round(export['y'].quantile(.95)),\n",
    "        \"quantile_99\": round(export['y'].quantile(.01)),\n",
    "        \"quantile_range\": {\n",
    "            \"end\": round(export['y'].quantile(.99)),\n",
    "            \"start\": round(export['y'].quantile(.01))\n",
    "        },\n",
    "        \"mean\": round(export['y'].mean()),\n",
    "        \"median\": round(export['y'].median())\n",
    "    }, export_json)"
   ]
  },
  {
   "cell_type": "code",
   "execution_count": 26,
   "metadata": {},
   "outputs": [],
   "source": [
    "with open('./hist.json', 'w') as export_json:\n",
    "    bins = {}\n",
    "    hist = {}\n",
    "    \n",
    "    percentile_99 = export['y'].quantile(.99)\n",
    "    normalized_export = export[export['y'] < percentile_99]['y']\n",
    "    \n",
    "    bins['default'] = np.linspace(normalized_export.min(), normalized_export.max(), 10)\n",
    "    hist['default'] = np.histogram(np.array(normalized_export), bins['default'])\n",
    "    \n",
    "    export_sqrt = np.sqrt((normalized_export))\n",
    "    bins['sqrt'] = np.linspace(export_sqrt.min(), export_sqrt.max(), 10)\n",
    "    hist['sqrt'] = np.histogram(np.array(export_sqrt), bins['sqrt'])\n",
    "    \n",
    "    export_log = np.log((normalized_export))\n",
    "    bins['log'] = np.linspace(export_log.min(), export_log.max(), 10)\n",
    "    hist['log'] = np.histogram(np.array(export_log), bins['log'])\n",
    "\n",
    "    json.dump({\n",
    "        \"default\": {\n",
    "            \"count\": hist['default'][0].tolist(),\n",
    "            \"bucket\": [round(num, 2) for num in hist['default'][1].tolist()]\n",
    "        },\n",
    "        \"sqrt\": {\n",
    "            \"count\": hist['sqrt'][0].tolist(),\n",
    "            \"bucket\": [round(num, 2) for num in hist['sqrt'][1].tolist()]\n",
    "        },\n",
    "        \"log\": {\n",
    "            \"count\": hist['log'][0].tolist(),\n",
    "            \"bucket\": [round(num, 2) for num in hist['log'][1].tolist()]\n",
    "        },\n",
    "    }, export_json)"
   ]
  },
  {
   "cell_type": "code",
   "execution_count": null,
   "metadata": {},
   "outputs": [],
   "source": []
  }
 ],
 "metadata": {
  "kernelspec": {
   "display_name": "Python 3 (ipykernel)",
   "language": "python",
   "name": "python3"
  },
  "language_info": {
   "codemirror_mode": {
    "name": "ipython",
    "version": 3
   },
   "file_extension": ".py",
   "mimetype": "text/x-python",
   "name": "python",
   "nbconvert_exporter": "python",
   "pygments_lexer": "ipython3",
   "version": "3.8.10"
  }
 },
 "nbformat": 4,
 "nbformat_minor": 1
}
