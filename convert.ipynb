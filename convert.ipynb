{
 "cells": [
  {
   "cell_type": "code",
   "execution_count": 50,
   "metadata": {
    "pycharm": {
     "is_executing": true
    }
   },
   "outputs": [],
   "source": [
    "import os\n",
    "import zipfile\n",
    "import json\n",
    "\n",
    "import pandas as pd\n",
    "import numpy as np"
   ]
  },
  {
   "cell_type": "code",
   "execution_count": 2,
   "metadata": {
    "pycharm": {
     "name": "#%%\n"
    }
   },
   "outputs": [],
   "source": [
    "EXPORT_ZIP_PATH = 'export.zip'\n",
    "TARGET_DIRECTORY = './data'\n",
    "\n",
    "with zipfile.ZipFile(EXPORT_ZIP_PATH, 'r') as zip_ref:\n",
    "    zip_ref.extractall(TARGET_DIRECTORY)"
   ]
  },
  {
   "cell_type": "code",
   "execution_count": 42,
   "metadata": {
    "pycharm": {
     "name": "#%%\n"
    }
   },
   "outputs": [],
   "source": [
    "EXPORT_XML = TARGET_DIRECTORY + '/apple_health_export/export.xml'\n",
    "\n",
    "if not os.path.isfile(EXPORT_XML):\n",
    "    raise 'Could not find xml export'\n",
    "\n",
    "df = pd.read_xml(EXPORT_XML, xpath='//Record[@type=\"HKQuantityTypeIdentifierHeartRate\"]')\n",
    "df = df[['startDate', 'value']]"
   ]
  },
  {
   "cell_type": "code",
   "execution_count": 38,
   "metadata": {
    "pycharm": {
     "name": "#%%\n"
    }
   },
   "outputs": [
    {
     "name": "stdout",
     "output_type": "stream",
     "text": [
      "38018\n",
      "2485\n",
      "               x          y\n",
      "0  1624435200000   75.00000\n",
      "1  1624438800000   75.00000\n",
      "2  1624442400000   79.50000\n",
      "3  1624446000000   85.88985\n",
      "4  1624449600000   85.50000\n",
      "5  1624453200000  115.00000\n",
      "6  1624456800000   89.00000\n",
      "7  1624460400000   93.00000\n",
      "8  1624464000000  113.00000\n",
      "9  1624467600000   84.00000\n"
     ]
    },
    {
     "name": "stderr",
     "output_type": "stream",
     "text": [
      "/tmp/ipykernel_36643/136341254.py:9: FutureWarning: casting datetime64[ns, pytz.FixedOffset(120)] values to int64 with .astype(...) is deprecated and will raise in a future version. Use .view(...) instead.\n",
      "  export['x'] = export['x'].astype(np.int64) // 10 ** 6\n"
     ]
    }
   ],
   "source": [
    "export = export.rename(columns={'startDate': 'x', 'value': 'y'})\n",
    "export['x'] = pd.to_datetime(export['x'])\n",
    "export = export.set_index('x')\n",
    "export = export.resample('H').median()\n",
    "export = export.reset_index()\n",
    "export['x'] = export['x'].astype(np.int64) // 10 ** 6"
   ]
  },
  {
   "cell_type": "code",
   "execution_count": 46,
   "metadata": {
    "pycharm": {
     "name": "#%%\n"
    }
   },
   "outputs": [],
   "source": [
    "with open('./data.json', 'w') as export_json:\n",
    "    export.to_json(path_or_buf=export_json, orient='records')\n",
    "    \n",
    "with open('./stats.json', 'w') as export_json:\n",
    "    json.dump({\n",
    "        \"quantile_95\": round(export['y'].quantile(.95)), \n",
    "        \"quantile_99\": round(export['y'].quantile(.01)), \n",
    "        \"quantile_range\": {\n",
    "            \"end\": round(export['y'].quantile(.99)), \n",
    "            \"start\": round(export['y'].quantile(.01))\n",
    "        }, \n",
    "        \"mean\": round(export['y'].mean()), \n",
    "        \"median\": round(export['y'].median())\n",
    "    }, export_json)"
   ]
  },
  {
   "cell_type": "raw",
   "metadata": {},
   "source": [
    "with open('./hist.json', 'w') as export_json:\n",
    "    bins = {}\n",
    "    \n",
    "    bins['default'] = np.linspace(export['y'].min(), export['y'].max(), 10)\n",
    "    hist['default'] = np.histogram(np.array(export['y']), bins)\n",
    "    \n",
    "    bins['sqrt'] = np.linspace(export['y'].min(), export['y'].max(), 10)\n",
    "    hist['sqrt'] = np.histogram(np.array(export['y']), bins)\n",
    "\n",
    "    json.dump({\n",
    "        \"default\": {\n",
    "            \"count\": hist[0].tolist(),\n",
    "            \"bucket\": [round(num, 2) for num in hist[1].tolist()]\n",
    "        }\n",
    "    }, export_json)"
   ]
  },
  {
   "cell_type": "code",
   "execution_count": null,
   "metadata": {},
   "outputs": [],
   "source": []
  }
 ],
 "metadata": {
  "kernelspec": {
   "display_name": "Python 3 (ipykernel)",
   "language": "python",
   "name": "python3"
  },
  "language_info": {
   "codemirror_mode": {
    "name": "ipython",
    "version": 3
   },
   "file_extension": ".py",
   "mimetype": "text/x-python",
   "name": "python",
   "nbconvert_exporter": "python",
   "pygments_lexer": "ipython3",
   "version": "3.8.10"
  }
 },
 "nbformat": 4,
 "nbformat_minor": 1
}
